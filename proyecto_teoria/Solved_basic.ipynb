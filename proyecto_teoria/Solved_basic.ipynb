{
 "cells": [
  {
   "cell_type": "code",
   "execution_count": null,
   "metadata": {},
   "outputs": [],
   "source": [
    "# Template to solve the problem of editing a sequence of images to match\n",
    "# the spectrogram of a song.\n",
    "# This is but a very basic idea, needs plenty of improvement."
   ]
  },
  {
   "cell_type": "code",
   "execution_count": 1,
   "metadata": {
    "colab": {},
    "colab_type": "code",
    "id": "POExQZ7wWId7"
   },
   "outputs": [],
   "source": [
    "import numpy as np\n",
    "import matplotlib.pyplot as plt\n",
    "from scipy.io import wavfile\n",
    "from IPython.display import Audio\n",
    "from scipy.fft import fft, ifft, fft2, ifft2, fftshift, ifftshift\n",
    "from skimage.io import imread\n",
    "from cv2 import VideoWriter, VideoWriter_fourcc\n",
    "from skimage.transform import resize\n",
    "from skimage import util"
   ]
  },
  {
   "cell_type": "code",
   "execution_count": 2,
   "metadata": {},
   "outputs": [],
   "source": [
    "# AUX function to change real and imaginary pairs into magnitude and phase pairs\n",
    "def real_imag2magn_phas(real, imag):\n",
    "    magn = np.sqrt(real*real + imag*imag)\n",
    "    phas = np.arctan2(imag, real)\n",
    "    return magn, phas"
   ]
  },
  {
   "cell_type": "code",
   "execution_count": 3,
   "metadata": {},
   "outputs": [],
   "source": [
    "# AUX function to change magnitude and phase pairs into real and imaginary pairs\n",
    "def magn_phas2real_imag(magnitude, phase):\n",
    "    real = magnitude * np.cos(phase)\n",
    "    imag = magnitude * np.sin(phase)\n",
    "    return real, imag"
   ]
  },
  {
   "cell_type": "markdown",
   "metadata": {
    "colab_type": "raw",
    "id": "fJk5bPheWIeD"
   },
   "source": [
    "# READ AUDIO FILE"
   ]
  },
  {
   "cell_type": "code",
   "execution_count": 4,
   "metadata": {
    "colab": {},
    "colab_type": "code",
    "id": "jLE4YnOCWIeF",
    "outputId": "9cd1ed61-881b-4b8c-e00a-748a3de1a246"
   },
   "outputs": [
    {
     "name": "stdout",
     "output_type": "stream",
     "text": [
      "Rate: 44100 Hz\n",
      "Length (n): 4485120\n",
      "Length (s): 101.70\n"
     ]
    }
   ],
   "source": [
    "# Read audio file\n",
    "rate, audio_data = wavfile.read(\"GoT_intro.wav\")\n",
    "N = len(audio_data)\n",
    "L = len(audio_data) / rate\n",
    "print(f\"Rate: {rate} Hz\")\n",
    "print(f\"Length (n): {N}\")\n",
    "print(f\"Length (s): {L:.2f}\")\n",
    "\n",
    "# Spit channels\n",
    "channel1 = audio_data[:, 0]\n",
    "channel2 = audio_data[:, 1]"
   ]
  },
  {
   "cell_type": "code",
   "execution_count": 5,
   "metadata": {
    "colab": {},
    "colab_type": "code",
    "id": "3LS7fXWHWIeM"
   },
   "outputs": [],
   "source": [
    "# Create a sliding window representation (split signal into N chunks of 1024 samples each, stride=100)\n",
    "stride_size = 256\n",
    "def slice_signal(in_signal):\n",
    "    return(util.view_as_windows(in_signal, window_shape=(512,), step=stride_size))"
   ]
  },
  {
   "cell_type": "code",
   "execution_count": 6,
   "metadata": {
    "colab": {},
    "colab_type": "code",
    "id": "V4BUvSjbWIeS",
    "outputId": "b0a42e4b-76d3-49fd-d9d7-e7069a7480e9"
   },
   "outputs": [
    {
     "name": "stdout",
     "output_type": "stream",
     "text": [
      "Sliced channel 1: (17519, 512)\n",
      "Sliced channel 2: (17519, 512)\n"
     ]
    }
   ],
   "source": [
    "# Create a sliding window representation (split channel1 into N chunks of 1024 samples each)\n",
    "intervals_chan1 = slice_signal(channel1)\n",
    "intervals_chan2 = slice_signal(channel2)\n",
    "print(f\"Sliced channel 1: {intervals_chan1.shape}\")\n",
    "print(f\"Sliced channel 2: {intervals_chan2.shape}\")\n",
    "\n",
    "n_intervals = intervals_chan1.shape[0]"
   ]
  },
  {
   "cell_type": "code",
   "execution_count": 7,
   "metadata": {
    "colab": {},
    "colab_type": "code",
    "id": "59HK9il7WIeX",
    "outputId": "7a107a27-3bf0-4f44-9658-4fcdd0963995"
   },
   "outputs": [],
   "source": [
    "# Audio spectra\n",
    "X_chan1 = fft(intervals_chan1, axis=1)\n",
    "magn_chan1, phas_chan1 = real_imag2magn_phas(X_chan1.real, X_chan1.imag)\n",
    "\n",
    "X_chan2 = fft(intervals_chan2, axis=1)\n",
    "magn_chan2, phas_chan2 = real_imag2magn_phas(X_chan2.real, X_chan2.imag)"
   ]
  },
  {
   "cell_type": "markdown",
   "metadata": {
    "colab_type": "raw",
    "id": "NL7UHeAJWIec"
   },
   "source": [
    "# READ IMAGE"
   ]
  },
  {
   "cell_type": "code",
   "execution_count": 8,
   "metadata": {
    "colab": {},
    "colab_type": "code",
    "id": "AtnTMJDSWIee",
    "outputId": "dae70cda-25ef-4bce-b251-70bc1f766aa0"
   },
   "outputs": [
    {
     "name": "stdout",
     "output_type": "stream",
     "text": [
      "Number of rows: 512\n",
      "Number of columns: 512\n",
      "Number of channels: 3\n",
      "1.8175910501454636e-06\n",
      "0.9999745462455002\n"
     ]
    }
   ],
   "source": [
    "# Load image\n",
    "img = imread('GoT_image.jpg')\n",
    "img = resize(img, (512, 512))\n",
    "n_rows, n_cols, n_channs = img.shape\n",
    "print(f\"Number of rows: {n_rows}\")\n",
    "print(f\"Number of columns: {n_cols}\")\n",
    "print(f\"Number of channels: {n_channs}\")\n",
    "print(img.min())\n",
    "print(img.max())"
   ]
  },
  {
   "cell_type": "code",
   "execution_count": 9,
   "metadata": {
    "colab": {},
    "colab_type": "code",
    "id": "Fh78lkGTWIel",
    "outputId": "f013d930-ce69-4420-d515-331e0149a73f"
   },
   "outputs": [],
   "source": [
    "# Image RGB spectra\n",
    "IMG = fft2(img)\n",
    "\n",
    "magn_IMG, phas_IMG = real_imag2magn_phas(IMG.real, IMG.imag)"
   ]
  },
  {
   "cell_type": "markdown",
   "metadata": {},
   "source": [
    "# Now combine them"
   ]
  },
  {
   "cell_type": "code",
   "execution_count": 10,
   "metadata": {
    "colab": {},
    "colab_type": "code",
    "id": "caLHhpFOWIet"
   },
   "outputs": [],
   "source": [
    "# AUX function to Modulate image with sound spectrum\n",
    "# Esta es la función en la que deben modelar su diseño\n",
    "def modulate(IMG, modulator):\n",
    "    img_out = np.zeros_like(IMG)\n",
    "    for it_chann in range(n_channs):\n",
    "        img_out[:, :, it_chann] = np.multiply(modulator, IMG[:, :, it_chann])\n",
    "    return(img_out)"
   ]
  },
  {
   "cell_type": "code",
   "execution_count": 11,
   "metadata": {},
   "outputs": [],
   "source": [
    "# Genera cada frame del nuevo video\n",
    "out_images = []\n",
    "for ind_interval in range(n_intervals):\n",
    "    modulated = modulate(magn_IMG, magn_chan1[ind_interval, :])\n",
    "    modulated = modulate(modulated, magn_chan2[ind_interval, :].T)\n",
    "    img_mod = np.real(ifft2(modulated))\n",
    "    \"\"\" # Normalización, puede o no ser requerida\n",
    "    img_mod -= img_mod.min()\n",
    "    if img_mod.max() != 0:\n",
    "        img_mod /= img_mod.max()\n",
    "    \"\"\"\n",
    "    img_mod = np.round(255 * img_mod).astype('uint8') # Formato para guardar en disco\n",
    "    out_images.append(img_mod)"
   ]
  },
  {
   "cell_type": "code",
   "execution_count": 16,
   "metadata": {},
   "outputs": [],
   "source": [
    "# Save sequence of frames to disk\n",
    "out = VideoWriter('frame_seq.mp4', VideoWriter_fourcc(*'MP4V'), 86.12, (512, 512))\n",
    "for im in out_images:\n",
    "    out.write(im)\n",
    "out.release()"
   ]
  },
  {
   "cell_type": "markdown",
   "metadata": {
    "colab_type": "raw",
    "id": "AqNSYT1_WIe7"
   },
   "source": [
    "Once on disk, can combine the sequence of frames with audio into final video. Use from command line:\n",
    "ffmpeg -i frame_seq.mp4 -i original_audio.mp3 -codec copy -shortest final_video.mp4"
   ]
  },
  {
   "cell_type": "code",
   "execution_count": null,
   "metadata": {},
   "outputs": [],
   "source": []
  }
 ],
 "metadata": {
  "colab": {
   "name": "Solved.ipynb",
   "provenance": [],
   "version": "0.3.2"
  },
  "kernelspec": {
   "display_name": "Python 3",
   "language": "python",
   "name": "python3"
  },
  "language_info": {
   "codemirror_mode": {
    "name": "ipython",
    "version": 3
   },
   "file_extension": ".py",
   "mimetype": "text/x-python",
   "name": "python",
   "nbconvert_exporter": "python",
   "pygments_lexer": "ipython3",
   "version": "3.7.7"
  }
 },
 "nbformat": 4,
 "nbformat_minor": 1
}
